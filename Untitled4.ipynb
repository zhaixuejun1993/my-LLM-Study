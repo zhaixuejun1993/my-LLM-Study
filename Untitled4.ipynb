{
  "nbformat": 4,
  "nbformat_minor": 0,
  "metadata": {
    "colab": {
      "provenance": [],
      "authorship_tag": "ABX9TyNHTi0e2ZfDvXIzH57g6tvF",
      "include_colab_link": true
    },
    "kernelspec": {
      "name": "python3",
      "display_name": "Python 3"
    },
    "language_info": {
      "name": "python"
    }
  },
  "cells": [
    {
      "cell_type": "markdown",
      "metadata": {
        "id": "view-in-github",
        "colab_type": "text"
      },
      "source": [
        "<a href=\"https://colab.research.google.com/github/zhaixuejun1993/my-LLM-Study/blob/main/Untitled4.ipynb\" target=\"_parent\"><img src=\"https://colab.research.google.com/assets/colab-badge.svg\" alt=\"Open In Colab\"/></a>"
      ]
    },
    {
      "cell_type": "code",
      "execution_count": null,
      "metadata": {
        "colab": {
          "base_uri": "https://localhost:8080/"
        },
        "id": "qb8EQzWesg-m",
        "outputId": "6f6ffaf5-6e4b-4895-a89d-c085f328eca1"
      },
      "outputs": [
        {
          "output_type": "stream",
          "name": "stdout",
          "text": [
            "torch.Size([6, 3])\n"
          ]
        }
      ],
      "source": [
        "import torch\n",
        "inputs = torch.tensor(\n",
        " [[0.43, 0.15, 0.89], # Your (x^1)\n",
        " [0.55, 0.87, 0.66], # journey (x^2)\n",
        " [0.57, 0.85, 0.64], # starts (x^3)\n",
        " [0.22, 0.58, 0.33], # with (x^4)\n",
        " [0.77, 0.25, 0.10], # one (x^5)\n",
        " [0.05, 0.80, 0.55]] # step (x^6)\n",
        ")\n",
        "print(inputs.shape)"
      ]
    },
    {
      "cell_type": "code",
      "source": [
        "import torch\n",
        "inputs = torch.tensor(\n",
        " [[0.43, 0.15, 0.89], # Your (x^1)\n",
        " [0.55, 0.87, 0.66], # journey (x^2)\n",
        " [0.57, 0.85, 0.64], # starts (x^3)\n",
        " [0.22, 0.58, 0.33], # with (x^4)\n",
        " [0.77, 0.25, 0.10], # one (x^5)\n",
        " [0.05, 0.80, 0.55]] # step (x^6)\n",
        ")\n",
        "print(inputs.shape)\n",
        "\n",
        "query = inputs[1]\n",
        "attn_scores_2 = torch.empty(inputs.shape[0])\n",
        "for i, x_i in enumerate(inputs):\n",
        "  attn_scores_2[i] = torch.dot(query, x_i)\n",
        "print(attn_scores_2)\n",
        "print(attn_scores_2.shape)\n",
        "\n",
        "# normalizition by notmal\n",
        "attn_weights_2_tmp = attn_scores_2 / torch.sum(attn_scores_2)\n",
        "print(\"attention weights (normal): \", attn_weights_2_tmp)\n",
        "\n",
        "# normalizition by softmax\n",
        "def softmax_naive(x):\n",
        "  return torch.exp(x) / torch.exp(x).sum(dim=0)\n",
        "attn_weights_2_naive = softmax_naive(attn_scores_2)\n",
        "print(\"attention weights (softmax): \", attn_weights_2_naive)\n",
        "\n",
        "# normalizition by softmax from pytorch\n",
        "attn_weights_2_pytorch = torch.softmax(attn_scores_2, dim=0)\n",
        "print(\"attention weights (softmax pytorch): \", attn_weights_2_pytorch)\n",
        "\n",
        "# the result after simple attension\n",
        "context_vec_2 = torch.zeros(query.shape)\n",
        "for i, x_i in enumerate(inputs):\n",
        "  context_vec_2 +=attn_weights_2_pytorch[i]*x_i\n",
        "print(context_vec_2)\n",
        "print(context_vec_2.shape)"
      ],
      "metadata": {
        "id": "R18mBfpvsFfO",
        "colab": {
          "base_uri": "https://localhost:8080/"
        },
        "outputId": "26ace0f4-6225-483b-c971-8dd4bef7097d"
      },
      "execution_count": null,
      "outputs": [
        {
          "output_type": "stream",
          "name": "stdout",
          "text": [
            "torch.Size([6, 3])\n",
            "tensor([0.9544, 1.4950, 1.4754, 0.8434, 0.7070, 1.0865])\n",
            "torch.Size([6])\n",
            "attention weights (normal):  tensor([0.1455, 0.2278, 0.2249, 0.1285, 0.1077, 0.1656])\n",
            "attention weights (softmax):  tensor([0.1385, 0.2379, 0.2333, 0.1240, 0.1082, 0.1581])\n",
            "attention weights (softmax pytorch):  tensor([0.1385, 0.2379, 0.2333, 0.1240, 0.1082, 0.1581])\n",
            "tensor([0.4419, 0.6515, 0.5683])\n",
            "torch.Size([3])\n"
          ]
        }
      ]
    },
    {
      "cell_type": "code",
      "source": [
        "# Calculate all context vectors simultaneously\n",
        "import torch\n",
        "inputs = torch.tensor(\n",
        " [[0.43, 0.15, 0.89], # Your (x^1)\n",
        " [0.55, 0.87, 0.66], # journey (x^2)\n",
        " [0.57, 0.85, 0.64], # starts (x^3)\n",
        " [0.22, 0.58, 0.33], # with (x^4)\n",
        " [0.77, 0.25, 0.10], # one (x^5)\n",
        " [0.05, 0.80, 0.55]] # step (x^6)\n",
        ")\n",
        "print(inputs.shape)\n",
        "\n",
        "# Calculate attension scores (for loop)\n",
        "attn_scores = torch.empty(inputs.shape[0], inputs.shape[0])\n",
        "for i, x_i in enumerate(inputs):\n",
        "  for j, x_j in enumerate(inputs):\n",
        "    attn_scores[i, j] = torch.dot(x_i, x_j)\n",
        "# print(attn_scores)\n",
        "\n",
        "# Calculate attension scores (matrix multiplication)\n",
        "attn_scores = inputs @ inputs.T\n",
        "print(\"attn_scores: \\n\", attn_scores)\n",
        "\n",
        "# Normalize the attension scores to get teh attension weights\n",
        "attn_weights = torch.softmax(attn_scores, dim=-1)\n",
        "print(\"attn_weights: \\n\", attn_weights)\n",
        "\n",
        "# Calculate all context vec\n",
        "all_context_vecs = attn_weights @ inputs\n",
        "print(\"all_context_vecs: \\n\", all_context_vecs)"
      ],
      "metadata": {
        "colab": {
          "base_uri": "https://localhost:8080/"
        },
        "id": "2lWHp9vJMTKU",
        "outputId": "9a176d7e-303a-460e-96b5-70236b3a2a55"
      },
      "execution_count": null,
      "outputs": [
        {
          "output_type": "stream",
          "name": "stdout",
          "text": [
            "torch.Size([6, 3])\n",
            "attn_scores: \n",
            " tensor([[0.9995, 0.9544, 0.9422, 0.4753, 0.4576, 0.6310],\n",
            "        [0.9544, 1.4950, 1.4754, 0.8434, 0.7070, 1.0865],\n",
            "        [0.9422, 1.4754, 1.4570, 0.8296, 0.7154, 1.0605],\n",
            "        [0.4753, 0.8434, 0.8296, 0.4937, 0.3474, 0.6565],\n",
            "        [0.4576, 0.7070, 0.7154, 0.3474, 0.6654, 0.2935],\n",
            "        [0.6310, 1.0865, 1.0605, 0.6565, 0.2935, 0.9450]])\n",
            "attn_weights: \n",
            " tensor([[0.2098, 0.2006, 0.1981, 0.1242, 0.1220, 0.1452],\n",
            "        [0.1385, 0.2379, 0.2333, 0.1240, 0.1082, 0.1581],\n",
            "        [0.1390, 0.2369, 0.2326, 0.1242, 0.1108, 0.1565],\n",
            "        [0.1435, 0.2074, 0.2046, 0.1462, 0.1263, 0.1720],\n",
            "        [0.1526, 0.1958, 0.1975, 0.1367, 0.1879, 0.1295],\n",
            "        [0.1385, 0.2184, 0.2128, 0.1420, 0.0988, 0.1896]])\n",
            "all_context_vecs: \n",
            " tensor([[0.4421, 0.5931, 0.5790],\n",
            "        [0.4419, 0.6515, 0.5683],\n",
            "        [0.4431, 0.6496, 0.5671],\n",
            "        [0.4304, 0.6298, 0.5510],\n",
            "        [0.4671, 0.5910, 0.5266],\n",
            "        [0.4177, 0.6503, 0.5645]])\n"
          ]
        }
      ]
    },
    {
      "cell_type": "code",
      "source": [
        "# Self-Attention with trainable weights for the second input\n",
        "import torch\n",
        "inputs = torch.tensor(\n",
        " [[0.43, 0.15, 0.89], # Your (x^1)\n",
        " [0.55, 0.87, 0.66], # journey (x^2)\n",
        " [0.57, 0.85, 0.64], # starts (x^3)\n",
        " [0.22, 0.58, 0.33], # with (x^4)\n",
        " [0.77, 0.25, 0.10], # one (x^5)\n",
        " [0.05, 0.80, 0.55]] # step (x^6)\n",
        ")\n",
        "print(inputs.shape)\n",
        "\n",
        "x_2 = inputs[1]\n",
        "d_in = inputs.shape[1]\n",
        "d_out = 2\n",
        "\n",
        "torch.manual_seed(123)\n",
        "W_query = torch.nn.Parameter(torch.rand(d_in, d_out), requires_grad=False)\n",
        "W_key = torch.nn.Parameter(torch.rand(d_in, d_out), requires_grad=False)\n",
        "W_value = torch.nn.Parameter(torch.rand(d_in, d_out), requires_grad=False)\n",
        "\n",
        "query_2 = x_2 @ W_query\n",
        "key_2 = x_2 @ W_key\n",
        "value_2 = x_2 @ W_value\n",
        "print(\"query_2: \\n\", query_2)\n",
        "\n",
        "keys = inputs @ W_key\n",
        "values = inputs @ W_value\n",
        "print(\"keys: \\n\", keys)\n",
        "print(\"values: \\n\", values)\n",
        "\n",
        "attn_scores = query_2 @ keys.T\n",
        "print(\"attn_scores: \\n\", attn_scores)\n",
        "\n",
        "d_k = keys.shape[-1]\n",
        "attn_weights_2 = torch.softmax(attn_scores / d_k**0.5, dim=-1)\n",
        "print(\"attn_weights_2: \\n\", attn_weights_2)\n",
        "\n",
        "context_vec_2 = attn_weights_2 @ values\n",
        "print(\"context_vec_2: \\n\", context_vec_2)\n",
        "\n"
      ],
      "metadata": {
        "id": "qmD0W83rQUn7",
        "colab": {
          "base_uri": "https://localhost:8080/"
        },
        "outputId": "8d12b4c6-9405-474a-ff73-00c163113cc2"
      },
      "execution_count": null,
      "outputs": [
        {
          "output_type": "stream",
          "name": "stdout",
          "text": [
            "torch.Size([6, 3])\n",
            "query_2: \n",
            " tensor([0.4306, 1.4551])\n",
            "keys: \n",
            " tensor([[0.3669, 0.7646],\n",
            "        [0.4433, 1.1419],\n",
            "        [0.4361, 1.1156],\n",
            "        [0.2408, 0.6706],\n",
            "        [0.1827, 0.3292],\n",
            "        [0.3275, 0.9642]])\n",
            "values: \n",
            " tensor([[0.1855, 0.8812],\n",
            "        [0.3951, 1.0037],\n",
            "        [0.3879, 0.9831],\n",
            "        [0.2393, 0.5493],\n",
            "        [0.1492, 0.3346],\n",
            "        [0.3221, 0.7863]])\n",
            "attn_scores: \n",
            " tensor([1.2705, 1.8524, 1.8111, 1.0795, 0.5577, 1.5440])\n",
            "attn_weights_2: \n",
            " tensor([0.1500, 0.2264, 0.2199, 0.1311, 0.0906, 0.1820])\n",
            "context_vec_2: \n",
            " tensor([0.3061, 0.8210])\n"
          ]
        }
      ]
    },
    {
      "cell_type": "code",
      "source": [
        "import torch.nn as nn\n",
        "class SalfAttention_v1(nn.Module):\n",
        "  def __init__(self, d_in, d_out):\n",
        "    super().__init__()\n",
        "    self.W_query = nn.Parameter(torch.rand(d_in, d_out))\n",
        "    self.W_key = nn.Parameter(torch.rand(d_in, d_out))\n",
        "    self.W_value = nn.Parameter(torch.rand(d_in, d_out))\n",
        "\n",
        "  def forward(self, x):\n",
        "    querys = x @ self.W_query\n",
        "    keys = x @ W_key\n",
        "    values = x @ W_value\n",
        "    attn_scores = querys @ keys.T\n",
        "    d_k = keys.shape[-1]\n",
        "    attn_weights = torch.softmax(attn_scores / d_k**0.5, dim=-1)\n",
        "\n",
        "    context_vec = attn_weights @ values\n",
        "    return context_vec\n",
        "\n",
        "torch.manual_seed(123)\n",
        "sa_v1 = SalfAttention_v1(d_in=3, d_out=2)\n",
        "print(\"context vec (SA V1): \\n\", sa_v1(inputs))\n"
      ],
      "metadata": {
        "colab": {
          "base_uri": "https://localhost:8080/"
        },
        "id": "O8ZYDopStUJ4",
        "outputId": "be59622b-4c51-4d99-ceb3-97f0dbb945d5"
      },
      "execution_count": null,
      "outputs": [
        {
          "output_type": "stream",
          "name": "stdout",
          "text": [
            "context vec (SA V1): \n",
            " tensor([[0.2996, 0.8053],\n",
            "        [0.3061, 0.8210],\n",
            "        [0.3058, 0.8203],\n",
            "        [0.2948, 0.7939],\n",
            "        [0.2927, 0.7891],\n",
            "        [0.2990, 0.8040]], grad_fn=<MmBackward0>)\n"
          ]
        }
      ]
    },
    {
      "cell_type": "code",
      "source": [
        "class SelfAttention_v2(nn.Module):\n",
        "  def __init__(self, d_in, d_out, qkv_bias=False):\n",
        "    super().__init__()\n",
        "    self.W_query = nn.Linear(d_in, d_out, bias=qkv_bias)\n",
        "    self.W_key = nn.Linear(d_in, d_out, bias=qkv_bias)\n",
        "    self.W_value = nn.Linear(d_in, d_out, bias=qkv_bias)\n",
        "\n",
        "  def forward(self, x):\n",
        "    querys = self.W_query(x)\n",
        "    keys = self.W_key(x)\n",
        "    values = self.W_value(x)\n",
        "\n",
        "    attn_scores = querys @ keys.T\n",
        "    d_k = keys.shape[-1]\n",
        "    attn_weights = torch.softmax(attn_scores / d_k**0.5, dim=-1)\n",
        "\n",
        "    context_vec = attn_weights @ values\n",
        "    return context_vec\n",
        "\n",
        "torch.manual_seed(123)\n",
        "sa_v2 = SelfAttention_v2(d_in=3, d_out=2)\n",
        "print(\"context vec (SA V2): \\n\", sa_v2(inputs))"
      ],
      "metadata": {
        "colab": {
          "base_uri": "https://localhost:8080/"
        },
        "id": "aGz0OtSZyx_v",
        "outputId": "d4bf7681-53ed-43f7-f5da-4a41ffc9f3a6"
      },
      "execution_count": null,
      "outputs": [
        {
          "output_type": "stream",
          "name": "stdout",
          "text": [
            "context vec (SA V2): \n",
            " tensor([[-0.5337, -0.1051],\n",
            "        [-0.5323, -0.1080],\n",
            "        [-0.5323, -0.1079],\n",
            "        [-0.5297, -0.1076],\n",
            "        [-0.5311, -0.1066],\n",
            "        [-0.5299, -0.1081]], grad_fn=<MmBackward0>)\n"
          ]
        }
      ]
    },
    {
      "cell_type": "code",
      "source": [
        "# Add Mask\n",
        "class SelfAttention_v3(nn.Module):\n",
        "  def __init__(self, d_in, d_out, qkv_bias=False):\n",
        "    super().__init__()\n",
        "    self.W_query = nn.Linear(d_in, d_out, bias=qkv_bias)\n",
        "    self.W_key = nn.Linear(d_in, d_out, bias=qkv_bias)\n",
        "    self.W_value = nn.Linear(d_in, d_out, bias=qkv_bias)\n",
        "\n",
        "  def forward(self, x):\n",
        "    querys = self.W_query(x)\n",
        "    keys = self.W_key(x)\n",
        "    values = self.W_value(x)\n",
        "\n",
        "    attn_scores = querys @ keys.T\n",
        "    mask = torch.triu(torch.ones(attn_scores.shape[0], attn_scores.shape[1]), diagonal=1)\n",
        "    attn_scores_masked = attn_scores.masked_fill(mask.bool(), -torch.inf)\n",
        "    d_k = keys.shape[-1]\n",
        "    attn_weights = torch.softmax(attn_scores_masked / d_k**0.5, dim=-1)\n",
        "    print(\"attn_weights: \\n\", attn_weights)\n",
        "\n",
        "    context_vec = attn_weights @ values\n",
        "    return context_vec\n",
        "\n",
        "torch.manual_seed(123)\n",
        "sa_v2 = SelfAttention_v3(d_in=3, d_out=2)\n",
        "print(\"context vec (SA V3): \\n\", sa_v2(inputs))"
      ],
      "metadata": {
        "colab": {
          "base_uri": "https://localhost:8080/"
        },
        "id": "lm1219Dg7opi",
        "outputId": "8de861c7-92b8-4597-c760-fde7ecbd7811"
      },
      "execution_count": null,
      "outputs": [
        {
          "output_type": "stream",
          "name": "stdout",
          "text": [
            "attn_weights: \n",
            " tensor([[1.0000, 0.0000, 0.0000, 0.0000, 0.0000, 0.0000],\n",
            "        [0.4833, 0.5167, 0.0000, 0.0000, 0.0000, 0.0000],\n",
            "        [0.3190, 0.3408, 0.3402, 0.0000, 0.0000, 0.0000],\n",
            "        [0.2445, 0.2545, 0.2542, 0.2468, 0.0000, 0.0000],\n",
            "        [0.1994, 0.2060, 0.2058, 0.1935, 0.1953, 0.0000],\n",
            "        [0.1624, 0.1709, 0.1706, 0.1654, 0.1625, 0.1682]],\n",
            "       grad_fn=<SoftmaxBackward0>)\n",
            "context vec (SA V2): \n",
            " tensor([[-0.4519,  0.2216],\n",
            "        [-0.5874,  0.0058],\n",
            "        [-0.6300, -0.0632],\n",
            "        [-0.5675, -0.0843],\n",
            "        [-0.5526, -0.0981],\n",
            "        [-0.5299, -0.1081]], grad_fn=<MmBackward0>)\n"
          ]
        }
      ]
    },
    {
      "cell_type": "code",
      "source": [
        "# Add Mask + Add Drop\n",
        "import torch\n",
        "import torch.nn as nn\n",
        "inputs = torch.tensor(\n",
        " [[0.43, 0.15, 0.89], # Your (x^1)\n",
        " [0.55, 0.87, 0.66], # journey (x^2)\n",
        " [0.57, 0.85, 0.64], # starts (x^3)\n",
        " [0.22, 0.58, 0.33], # with (x^4)\n",
        " [0.77, 0.25, 0.10], # one (x^5)\n",
        " [0.05, 0.80, 0.55]] # step (x^6)\n",
        ")\n",
        "print(\"inputs shape: \", inputs.shape)\n",
        "\n",
        "batched_inputs = torch.stack((inputs, inputs), dim=0)\n",
        "print(\"batched_inputs shape: \", batched_inputs.shape)\n",
        "\n",
        "class CausalAttention(nn.Module):\n",
        "  def __init__(self, d_in, d_out, context_length, dropout, qkv_bias=False):\n",
        "    super().__init__()\n",
        "    self.W_query = nn.Linear(d_in, d_out, bias=qkv_bias)\n",
        "    self.W_key = nn.Linear(d_in, d_out, bias=qkv_bias)\n",
        "    self.W_value = nn.Linear(d_in, d_out, bias=qkv_bias)\n",
        "    self.dropout = nn.Dropout(dropout)\n",
        "    self.register_buffer('mask', torch.triu(torch.ones(context_length, context_length), diagonal=1))\n",
        "\n",
        "  def forward(self, x):\n",
        "    b, num_tokens, d_in = x.shape\n",
        "    querys = self.W_query(x)\n",
        "    keys = self.W_key(x)\n",
        "    values = self.W_value(x)\n",
        "    attn_scores = querys @ keys.transpose(1, 2)\n",
        "    attn_scores_masked = attn_scores.masked_fill(self.mask.bool()[:num_tokens, :num_tokens], -torch.inf)\n",
        "    attn_weights = torch.softmax(attn_scores_masked / (d_in**0.5), dim=-1)\n",
        "    attn_weights_dropout = self.dropout(attn_weights)\n",
        "    context_vec = attn_weights_dropout @ values\n",
        "    return context_vec\n",
        "\n",
        "torch.manual_seed(123)\n",
        "b, num_tokens, d_in = batched_inputs.shape\n",
        "ca = CausalAttention(d_in=d_in, d_out=2, context_length=num_tokens, dropout=0.1)\n",
        "context_vec = ca(batched_inputs)\n",
        "print(\"context vec shape(CA): \\n\", context_vec.shape)\n",
        "print(\"context vec (CA): \\n\", context_vec)\n",
        "\n",
        "class MultiHeadAttentionWrapper(nn.Module):\n",
        "  def __init__(self, d_in, d_out, context_length, dropout, num_heads, qkv_bias=False):\n",
        "    super().__init__()\n",
        "    self.heads = nn.ModuleList([CausalAttention(d_in, d_out, context_length, dropout) for _ in range(num_heads)])\n",
        "  def forward(self, x):\n",
        "    return torch.cat([head(x) for head in self.heads], dim=-1)\n",
        "torch.manual_seed(123)\n",
        "mha = MultiHeadAttentionWrapper(d_in, 2, num_tokens, 0.0, 2)\n",
        "context_vec = mha(batched_inputs)\n",
        "print(\"context vec shape(MHA): \\n\", context_vec.shape)\n",
        "print(\"context vec (MHA): \\n\", context_vec)\n"
      ],
      "metadata": {
        "id": "9DTsF2NZ-jgc",
        "colab": {
          "base_uri": "https://localhost:8080/"
        },
        "outputId": "aa34d9a8-e520-482e-dfd5-27773a30a30e"
      },
      "execution_count": 26,
      "outputs": [
        {
          "output_type": "stream",
          "name": "stdout",
          "text": [
            "inputs shape:  torch.Size([6, 3])\n",
            "batched_inputs shape:  torch.Size([2, 6, 3])\n",
            "context vec shape(CA): \n",
            " torch.Size([2, 6, 2])\n",
            "context vec (CA): \n",
            " tensor([[[-0.5021,  0.2462],\n",
            "         [-0.6518,  0.0078],\n",
            "         [-0.6993, -0.0690],\n",
            "         [-0.5067, -0.1536],\n",
            "         [-0.6133, -0.1088],\n",
            "         [-0.5884, -0.1197]],\n",
            "\n",
            "        [[-0.5021,  0.2462],\n",
            "         [-0.4076, -0.1119],\n",
            "         [-0.4309,  0.0052],\n",
            "         [-0.6300, -0.0931],\n",
            "         [-0.4511, -0.0640],\n",
            "         [-0.5098, -0.0917]]], grad_fn=<UnsafeViewBackward0>)\n",
            "context vec shape(MHA): \n",
            " torch.Size([2, 6, 4])\n",
            "context vec (MHA): \n",
            " tensor([[[-0.4519,  0.2216,  0.4772,  0.1063],\n",
            "         [-0.5866,  0.0071,  0.5869,  0.3214],\n",
            "         [-0.6293, -0.0621,  0.6184,  0.3825],\n",
            "         [-0.5670, -0.0838,  0.5474,  0.3575],\n",
            "         [-0.5519, -0.0979,  0.5319,  0.3423],\n",
            "         [-0.5295, -0.1077,  0.5074,  0.3481]],\n",
            "\n",
            "        [[-0.4519,  0.2216,  0.4772,  0.1063],\n",
            "         [-0.5866,  0.0071,  0.5869,  0.3214],\n",
            "         [-0.6293, -0.0621,  0.6184,  0.3825],\n",
            "         [-0.5670, -0.0838,  0.5474,  0.3575],\n",
            "         [-0.5519, -0.0979,  0.5319,  0.3423],\n",
            "         [-0.5295, -0.1077,  0.5074,  0.3481]]], grad_fn=<CatBackward0>)\n"
          ]
        }
      ]
    },
    {
      "cell_type": "code",
      "source": [
        "# Multi Head Attention\n",
        "import torch\n",
        "import torch.nn as nn\n",
        "inputs = torch.tensor(\n",
        " [[0.43, 0.15, 0.89], # Your (x^1)\n",
        " [0.55, 0.87, 0.66], # journey (x^2)\n",
        " [0.57, 0.85, 0.64], # starts (x^3)\n",
        " [0.22, 0.58, 0.33], # with (x^4)\n",
        " [0.77, 0.25, 0.10], # one (x^5)\n",
        " [0.05, 0.80, 0.55]] # step (x^6)\n",
        ")\n",
        "print(\"inputs shape: \", inputs.shape)\n",
        "\n",
        "batched_inputs = torch.stack((inputs, inputs), dim=0)\n",
        "print(\"batched_inputs shape: \", batched_inputs.shape)\n",
        "\n",
        "class MultiHeadAttention(nn.Module):\n",
        "  def __init__(self, d_in, d_out, context_length, dropout, num_heads, qkv_bias=False):\n",
        "    super().__init__()\n",
        "    assert (d_out % num_heads == 0), \"d_out must be divisible by num_heads\"\n",
        "\n",
        "    self.d_in = d_in\n",
        "    self.d_out = d_out\n",
        "    self.num_heads = num_heads\n",
        "    self.head_dim = d_out // num_heads\n",
        "\n",
        "    self.W_query = nn.Linear(d_in, d_out, bias=qkv_bias)\n",
        "    self.W_key = nn.Linear(d_in, d_out, bias=qkv_bias)\n",
        "    self.W_value = nn.Linear(d_in, d_out, bias=qkv_bias)\n",
        "    self.dropout = nn.Dropout(dropout)\n",
        "    self.out_proj = nn.Linear(d_out, d_out)\n",
        "    self.register_buffer('mask', torch.triu(torch.ones(context_length, context_length), diagonal=1))\n",
        "\n",
        "  def forward(self, x):\n",
        "    b, num_tokens, d_in = x.shape\n",
        "    querys = self.W_query(x)\n",
        "    keys = self.W_key(x)\n",
        "    values = self.W_value(x)\n",
        "    querys = querys.view(b, num_tokens, self.num_heads, self.head_dim)\n",
        "    keys = keys.view(b, num_tokens, self.num_heads, self.head_dim)\n",
        "    values = values.view(b, num_tokens, self.num_heads, self.head_dim)\n",
        "\n",
        "    querys = querys.transpose(1, 2)\n",
        "    keys = keys.transpose(1, 2)\n",
        "    values = values.transpose(1, 2)\n",
        "\n",
        "    attn_scores = querys @ keys.transpose(2, 3)\n",
        "    mask_bool = self.mask.bool()[:num_tokens, :num_tokens]\n",
        "    attn_scores_masked = attn_scores.masked_fill(mask_bool, -torch.inf)\n",
        "    attn_weights = torch.softmax(attn_scores_masked / (self.head_dim**0.5), dim=-1)\n",
        "    attn_weights_dropout = self.dropout(attn_weights)\n",
        "    context_vec = (attn_weights_dropout @ values).transpose(1, 2)\n",
        "\n",
        "    context_vec = context_vec.reshape(b, num_tokens, self.d_out)\n",
        "    context_vec = self.out_proj(context_vec)\n",
        "    return context_vec\n",
        "\n",
        "torch.manual_seed(123)\n",
        "batch_size, context_length, d_in = batched_inputs.shape\n",
        "d_out = 2\n",
        "mha = MultiHeadAttention(d_in, d_out, context_length, 0.0, num_heads=2)\n",
        "context_vecs = mha(batched_inputs)\n",
        "print(\"context_vecs.shape final: \\n\", context_vecs.shape)\n",
        "print(\"context_vecs final: \\n\", context_vecs)\n"
      ],
      "metadata": {
        "colab": {
          "base_uri": "https://localhost:8080/"
        },
        "id": "GAT97Kwo2kWw",
        "outputId": "9e8d1f25-8ef8-4c74-a7ca-5fc16b36269c"
      },
      "execution_count": 28,
      "outputs": [
        {
          "output_type": "stream",
          "name": "stdout",
          "text": [
            "inputs shape:  torch.Size([6, 3])\n",
            "batched_inputs shape:  torch.Size([2, 6, 3])\n",
            "context_vecs.shape final: \n",
            " torch.Size([2, 6, 2])\n",
            "context_vecs final: \n",
            " tensor([[[0.3190, 0.4858],\n",
            "         [0.2943, 0.3897],\n",
            "         [0.2856, 0.3593],\n",
            "         [0.2693, 0.3873],\n",
            "         [0.2639, 0.3928],\n",
            "         [0.2575, 0.4028]],\n",
            "\n",
            "        [[0.3190, 0.4858],\n",
            "         [0.2943, 0.3897],\n",
            "         [0.2856, 0.3593],\n",
            "         [0.2693, 0.3873],\n",
            "         [0.2639, 0.3928],\n",
            "         [0.2575, 0.4028]]], grad_fn=<AddBackward0>)\n"
          ]
        }
      ]
    }
  ]
}